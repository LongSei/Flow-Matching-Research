{
 "cells": [
  {
   "cell_type": "markdown",
   "id": "169a8f49",
   "metadata": {},
   "source": [
    "# Data\n"
   ]
  },
  {
   "cell_type": "code",
   "execution_count": 1,
   "id": "69b55584",
   "metadata": {},
   "outputs": [],
   "source": [
    "from torchvision.datasets import MNIST, CIFAR10, FashionMNIST\n",
    "from torchvision.transforms import ToTensor\n",
    "from torch.utils.data import DataLoader, TensorDataset"
   ]
  },
  {
   "cell_type": "code",
   "execution_count": 2,
   "id": "4c07c948",
   "metadata": {},
   "outputs": [],
   "source": [
    "num_images_per_label = 6000  \n",
    "dataset_name = 'FashionMNIST' # 'MNIST' or 'CIFAR10'"
   ]
  },
  {
   "cell_type": "code",
   "execution_count": 3,
   "id": "ef07d918",
   "metadata": {},
   "outputs": [],
   "source": [
    "if dataset_name == 'MNIST':\n",
    "    dataset = MNIST(root='./../data', train=True, download=True, transform=ToTensor())\n",
    "elif dataset_name == 'CIFAR10':\n",
    "    dataset = CIFAR10(root='./../data', train=True, download=True, transform=ToTensor())\n",
    "elif dataset_name == 'FashionMNIST':\n",
    "    dataset = FashionMNIST(root='./../data', train=True, download=True, transform=ToTensor())\n",
    "else:\n",
    "    raise ValueError(\"Unsupported dataset. Please choose 'MNIST' or 'CIFAR10'.\")\n",
    "\n",
    "import random \n",
    "# Custom dataset to filter 1000 samples per label\n",
    "class FilteredDatasetOneLabel(TensorDataset):\n",
    "    def __init__(self, dataset, num_images_per_label, data_label):\n",
    "        self.dataset = dataset\n",
    "        self.num_images_per_label = num_images_per_label\n",
    "        self.filtered_data = []\n",
    "        self.label = data_label\n",
    "        if self.label == None:\n",
    "            label = random.randint(0, 9)  # Randomly select a label from 0 to 9\n",
    "        self._filter_dataset()\n",
    "\n",
    "    def _filter_dataset(self):\n",
    "        image_count = 0\n",
    "        for image, label in self.dataset:\n",
    "            if label == self.label and image_count < self.num_images_per_label:\n",
    "                self.filtered_data.append((image, label))\n",
    "            if image_count >= self.num_images_per_label:\n",
    "                break\n",
    "            image_count += 1\n",
    "        print(f\"Filtered {len(self.filtered_data)} images for label {self.label}.\")\n",
    "\n",
    "    def __len__(self):\n",
    "        return len(self.filtered_data)\n",
    "\n",
    "    def __getitem__(self, index):\n",
    "        return self.filtered_data[index]"
   ]
  },
  {
   "cell_type": "code",
   "execution_count": 4,
   "id": "7cb446b3",
   "metadata": {},
   "outputs": [
    {
     "name": "stdout",
     "output_type": "stream",
     "text": [
      "Filtered 560 images for label 0.\n"
     ]
    },
    {
     "data": {
      "image/png": "[encoded data removed]",
      "text/plain": [
       "<Figure size 640x480 with 1 Axes>"
      ]
     },
     "metadata": {},
     "output_type": "display_data"
    }
   ],
   "source": [
    "# Create the filtered dataset\n",
    "filtered_dataset = FilteredDatasetOneLabel(dataset, num_images_per_label, data_label=0)\n",
    "dataloader = DataLoader(filtered_dataset, batch_size=256, shuffle=True)\n",
    "\n",
    "# Visualize the dataset\n",
    "import matplotlib.pyplot as plt\n",
    "\n",
    "def visualize_dataset(dataloader, label_show=True):\n",
    "    # Visualize one image from each class\n",
    "    classes = dataloader.dataset.dataset.classes\n",
    "    images, labels = [], []\n",
    "    for image, label in dataloader:\n",
    "        images.append(image[0])\n",
    "            \n",
    "\n",
    "    plt.imshow(images[0].squeeze(), cmap='gray')\n",
    "        \n",
    "    \n",
    "visualize_dataset(dataloader)"
   ]
  },
  {
   "cell_type": "code",
   "execution_count": 6,
   "id": "48ca50df",
   "metadata": {},
   "outputs": [
    {
     "name": "stdout",
     "output_type": "stream",
     "text": [
      "Image shape: torch.Size([1, 28, 28])\n",
      "Dataset Length: 2\n",
      "Number of samples: 560\n"
     ]
    }
   ],
   "source": [
    "# image shape \n",
    "print(f\"Image shape: {filtered_dataset[0][0].shape}\")\n",
    "print(f\"Dataset Length: {len(filtered_dataset[0])}\")\n",
    "print(f\"Number of samples: {len(filtered_dataset)}\")"
   ]
  },
  {
   "cell_type": "markdown",
   "id": "ddd77940",
   "metadata": {},
   "source": [
    "# Unconditional Flow Matching"
   ]
  },
  {
   "cell_type": "code",
   "execution_count": 7,
   "id": "31c19c8d",
   "metadata": {},
   "outputs": [
    {
     "name": "stdout",
     "output_type": "stream",
     "text": [
      "Device: mps\n",
      "Data shape: torch.Size([1, 28, 28])\n",
      "Number of classes: 10\n",
      "Number of total samples: 560\n"
     ]
    }
   ],
   "source": [
    "import sys\n",
    "import os\n",
    "sys.path.append(os.path.abspath(os.path.join(os.getcwd(), '..')))\n",
    "from models import UNetModel\n",
    "from models import OptimalTransport\n",
    "import torch \n",
    "\n",
    "device = 'mps' if torch.mps.is_available() else 'cpu'\n",
    "\n",
    "model = UNetModel(\n",
    "    dim=(1, 28, 28), num_channels=32, num_res_blocks=1, class_cond=False\n",
    ").to(device)\n",
    "\n",
    "sampler = OptimalTransport(\n",
    "    sigma_min=0.0001,\n",
    ")\n",
    "\n",
    "optimizer = torch.optim.Adam(model.parameters(), lr=1e-5)\n",
    "\n",
    "print(f\"Device: {device}\")\n",
    "print(f\"Data shape: {filtered_dataset[0][0].shape}\")  \n",
    "print(f\"Number of classes: {len(filtered_dataset.dataset.classes)}\")\n",
    "print(f\"Number of total samples: {len(filtered_dataset)}\")"
   ]
  },
  {
   "cell_type": "code",
   "execution_count": 12,
   "id": "e625426f",
   "metadata": {},
   "outputs": [
    {
     "name": "stdout",
     "output_type": "stream",
     "text": [
      "Loaded pre-trained model from ../checkpoint/2025-06-22_17-11-30/\n",
      "Loaded pre-trained optimizer from ../checkpoint/2025-06-22_17-11-30/\n"
     ]
    }
   ],
   "source": [
    "# Load pre-trained model if available\n",
    "path_pretrained = '../checkpoint/2025-06-22_17-11-30/'\n",
    "model.load_state_dict(torch.load(os.path.join(path_pretrained, 'unet_model.pth'), map_location=device))\n",
    "print(f\"Loaded pre-trained model from {path_pretrained}\")\n",
    "optimizer.load_state_dict(torch.load(os.path.join(path_pretrained, 'optimizer.pth'), map_location=device))\n",
    "print(f\"Loaded pre-trained optimizer from {path_pretrained}\")"
   ]
  },
  {
   "cell_type": "markdown",
   "id": "63a1a9cd",
   "metadata": {},
   "source": [
    "## Train"
   ]
  },
  {
   "cell_type": "code",
   "execution_count": 10,
   "id": "055969c5",
   "metadata": {},
   "outputs": [
    {
     "name": "stderr",
     "output_type": "stream",
     "text": [
      "100%|██████████| 3/3 [00:04<00:00,  1.49s/it]\n"
     ]
    },
    {
     "name": "stdout",
     "output_type": "stream",
     "text": [
      "Epoch 1/100, Loss: 0.12710637350877127\n"
     ]
    },
    {
     "name": "stderr",
     "output_type": "stream",
     "text": [
      "100%|██████████| 3/3 [00:01<00:00,  1.66it/s]\n"
     ]
    },
    {
     "name": "stdout",
     "output_type": "stream",
     "text": [
      "Epoch 2/100, Loss: 0.12784236669540405\n"
     ]
    },
    {
     "name": "stderr",
     "output_type": "stream",
     "text": [
      "100%|██████████| 3/3 [00:01<00:00,  1.67it/s]\n"
     ]
    },
    {
     "name": "stdout",
     "output_type": "stream",
     "text": [
      "Epoch 3/100, Loss: 0.12436365336179733\n"
     ]
    },
    {
     "name": "stderr",
     "output_type": "stream",
     "text": [
      "100%|██████████| 3/3 [00:01<00:00,  1.62it/s]\n"
     ]
    },
    {
     "name": "stdout",
     "output_type": "stream",
     "text": [
      "Epoch 4/100, Loss: 0.12753435224294662\n"
     ]
    },
    {
     "name": "stderr",
     "output_type": "stream",
     "text": [
      "100%|██████████| 3/3 [00:01<00:00,  1.69it/s]\n"
     ]
    },
    {
     "name": "stdout",
     "output_type": "stream",
     "text": [
      "Epoch 5/100, Loss: 0.1228769024213155\n"
     ]
    },
    {
     "name": "stderr",
     "output_type": "stream",
     "text": [
      "100%|██████████| 3/3 [00:01<00:00,  1.70it/s]\n"
     ]
    },
    {
     "name": "stdout",
     "output_type": "stream",
     "text": [
      "Epoch 6/100, Loss: 0.1289352277914683\n"
     ]
    },
    {
     "name": "stderr",
     "output_type": "stream",
     "text": [
      "100%|██████████| 3/3 [00:01<00:00,  1.67it/s]\n"
     ]
    },
    {
     "name": "stdout",
     "output_type": "stream",
     "text": [
      "Epoch 7/100, Loss: 0.12383481115102768\n"
     ]
    },
    {
     "name": "stderr",
     "output_type": "stream",
     "text": [
      "100%|██████████| 3/3 [00:01<00:00,  1.70it/s]\n"
     ]
    },
    {
     "name": "stdout",
     "output_type": "stream",
     "text": [
      "Epoch 8/100, Loss: 0.12881687780221304\n"
     ]
    },
    {
     "name": "stderr",
     "output_type": "stream",
     "text": [
      "100%|██████████| 3/3 [00:01<00:00,  1.65it/s]\n"
     ]
    },
    {
     "name": "stdout",
     "output_type": "stream",
     "text": [
      "Epoch 9/100, Loss: 0.12627888222535452\n"
     ]
    },
    {
     "name": "stderr",
     "output_type": "stream",
     "text": [
      "100%|██████████| 3/3 [00:01<00:00,  1.74it/s]"
     ]
    },
    {
     "name": "stdout",
     "output_type": "stream",
     "text": [
      "Epoch 10/100, Loss: 0.12330450862646103\n",
      "Early stopping at epoch 10\n"
     ]
    },
    {
     "name": "stderr",
     "output_type": "stream",
     "text": [
      "\n"
     ]
    }
   ],
   "source": [
    "from tqdm import tqdm\n",
    "\n",
    "epochs = 100\n",
    "patience = 5\n",
    "best_loss = float('inf')\n",
    "patience_counter = 0\n",
    "\n",
    "for epoch in range(epochs):\n",
    "    epoch_loss = 0.0\n",
    "    for i, (X, y) in tqdm(enumerate(dataloader), total=len(dataloader)):\n",
    "        X = X.to(device)\n",
    "        y = y.to(device)\n",
    "\n",
    "        # Compute loss\n",
    "        loss = sampler.loss(model, X, class_condition=None)\n",
    "\n",
    "        # Zero gradients\n",
    "        optimizer.zero_grad()\n",
    "\n",
    "        # Standard backward pass\n",
    "        loss.backward()\n",
    "\n",
    "        # Optimizer step\n",
    "        optimizer.step()\n",
    "\n",
    "        # Accumulate loss\n",
    "        epoch_loss += loss.item()\n",
    "        \n",
    "    avg_loss = epoch_loss / len(dataloader)\n",
    "    print(f\"Epoch {epoch + 1}/{epochs}, Loss: {avg_loss}\")\n",
    "\n",
    "    # Early stopping check\n",
    "    if avg_loss < best_loss:\n",
    "        best_loss = avg_loss\n",
    "        patience_counter = 0\n",
    "    else:\n",
    "        patience_counter += 1\n",
    "        if patience_counter >= patience:\n",
    "            print(f\"Early stopping at epoch {epoch + 1}\")\n",
    "            break"
   ]
  },
  {
   "cell_type": "markdown",
   "id": "8a3a8631",
   "metadata": {},
   "source": [
    "## Save Model"
   ]
  },
  {
   "cell_type": "code",
   "execution_count": 11,
   "id": "62f58884",
   "metadata": {},
   "outputs": [
    {
     "name": "stdout",
     "output_type": "stream",
     "text": [
      "Saving model to ../checkpoint/2025-06-22_17-11-30/unet_model.pth\n",
      "Saving optimizer state to ../checkpoint/2025-06-22_17-11-30/optimizer.pth\n"
     ]
    }
   ],
   "source": [
    "# Save the model\n",
    "import datetime\n",
    "date = datetime.datetime.now().strftime(\"%Y-%m-%d_%H-%M-%S\")\n",
    "if not os.path.exists('../checkpoint'):\n",
    "    os.makedirs('../checkpoint')\n",
    "if not os.path.exists(f'../checkpoint/{date}'):\n",
    "    os.makedirs(f'../checkpoint/{date}')\n",
    "print(f\"Saving model to ../checkpoint/{date}/unet_model.pth\")\n",
    "torch.save(model.state_dict(), f'../checkpoint/{date}/unet_model.pth')\n",
    "print(f\"Saving optimizer state to ../checkpoint/{date}/optimizer.pth\")\n",
    "torch.save(optimizer.state_dict(), f'../checkpoint/{date}/optimizer.pth')"
   ]
  },
  {
   "cell_type": "markdown",
   "id": "7b97b08e",
   "metadata": {},
   "source": [
    "## Sampling and Visualize"
   ]
  },
  {
   "cell_type": "code",
   "execution_count": 21,
   "id": "feb65640",
   "metadata": {},
   "outputs": [],
   "source": [
    "import torchdiffeq\n",
    "\n",
    "CONDITION = torch.tensor([x for x in range(10)], device=device)  # Condition for all class\n",
    "N_SAMPLES = 1  # Number of samples to generate\n",
    "STEPS = torch.linspace(0, 1, 100, device=device)\n",
    "\n",
    "with torch.no_grad():\n",
    "    # with torch.autocast(device_type=\"cuda\", dtype=torch.float16):\n",
    "        traj = torchdiffeq.odeint(\n",
    "            lambda t, x: model(t, x),\n",
    "            torch.randn(N_SAMPLES, 1, 28, 28, device=device),\n",
    "            STEPS,\n",
    "            atol=1e-4,\n",
    "            rtol=1e-4,\n",
    "            method=\"euler\",\n",
    "        )\n",
    "        \n",
    "traj = traj[-1]  # Get the last time step"
   ]
  },
  {
   "cell_type": "code",
   "execution_count": 23,
   "id": "81700c34",
   "metadata": {},
   "outputs": [
    {
     "data": {
      "image/png": "[encoded data removed]",
      "text/plain": [
       "<Figure size 640x480 with 1 Axes>"
      ]
     },
     "metadata": {},
     "output_type": "display_data"
    },
    {
     "data": {
      "image/png": "[encoded data removed]",
      "text/plain": [
       "<Figure size 640x480 with 1 Axes>"
      ]
     },
     "metadata": {},
     "output_type": "display_data"
    }
   ],
   "source": [
    "# Visualize the generated samples\n",
    "if N_SAMPLES > 1: \n",
    "    fig, axes = plt.subplots(1, N_SAMPLES, figsize=(15, 5))\n",
    "    for ax, img in zip(axes, traj):\n",
    "        img_np = img.permute(1, 2, 0).cpu().numpy()\n",
    "        if img_np.shape[2] == 1:\n",
    "            img_np = img_np.squeeze(-1)  # For grayscale\n",
    "        ax.imshow(img_np, cmap='gray' if img_np.ndim == 2 else None)\n",
    "        ax.axis('off')\n",
    "    plt.show()\n",
    "else: \n",
    "    img = traj[0].permute(1, 2, 0).cpu().numpy()\n",
    "    if img.shape[2] == 1:\n",
    "        img = img.squeeze(-1)\n",
    "    plt.imshow(img, cmap='gray' if img.ndim == 2 else None)\n",
    "    plt.axis('off')\n",
    "    plt.show()\n",
    "# Visualize ground truth samples\n",
    "visualize_dataset(dataloader, label_show=False)"
   ]
  },
  {
   "cell_type": "markdown",
   "id": "65bc23e9",
   "metadata": {},
   "source": [
    "## Metrics"
   ]
  },
  {
   "cell_type": "markdown",
   "id": "eb266135",
   "metadata": {},
   "source": [
    "## FID"
   ]
  },
  {
   "cell_type": "code",
   "execution_count": 25,
   "id": "e9239751",
   "metadata": {},
   "outputs": [
    {
     "data": {
      "image/png": "[encoded data removed]",
      "text/plain": [
       "<Figure size 1500x500 with 1 Axes>"
      ]
     },
     "metadata": {},
     "output_type": "display_data"
    },
    {
     "data": {
      "image/png": "[encoded data removed]",
      "text/plain": [
       "<Figure size 500x500 with 1 Axes>"
      ]
     },
     "metadata": {},
     "output_type": "display_data"
    }
   ],
   "source": [
    "def save_generated_single_label(folder_path, model, label: int, steps: torch.Tensor, n_samples: int, device: str):\n",
    "    condition = torch.tensor([label] * n_samples, device=device)\n",
    "    with torch.no_grad():\n",
    "        traj = torchdiffeq.odeint(\n",
    "            lambda t, x: model(t, x),\n",
    "            torch.randn(n_samples, 1, 28, 28, device=device),\n",
    "            steps,\n",
    "            atol=1e-4,\n",
    "            rtol=1e-4,\n",
    "            method=\"euler\",\n",
    "        )\n",
    "    traj = traj[-1]  # Get the last time step\n",
    "\n",
    "    label_folder = os.path.join(folder_path, f'{label}')\n",
    "    os.makedirs(label_folder, exist_ok=True)\n",
    "\n",
    "    # Save the generated samples\n",
    "    for idx, img in enumerate(traj):\n",
    "        img_np = img.permute(1, 2, 0).cpu().numpy()\n",
    "        if img_np.shape[-1] == 1:\n",
    "            img_np = img_np.squeeze(-1)\n",
    "        plt.imsave(os.path.join(label_folder, f'sample_{idx}.png'), img_np, cmap='gray' if img_np.ndim == 2 else None)\n",
    "\n",
    "    # Visualize the generated samples\n",
    "    fig, axes = plt.subplots(1, n_samples, figsize=(15, 5))\n",
    "    if n_samples == 1:\n",
    "        axes = [axes]\n",
    "    for ax, img in zip(axes, traj):\n",
    "        img_np = img.permute(1, 2, 0).cpu().numpy()\n",
    "        if img_np.shape[-1] == 1:\n",
    "            img_np = img_np.squeeze(-1)\n",
    "        ax.imshow(img_np, cmap='gray' if img_np.ndim == 2 else None)\n",
    "        ax.axis('off')\n",
    "    plt.show()\n",
    "\n",
    "def save_ground_truth_single_label(folder_path, dataloader, label: int, n_samples: int = 1):\n",
    "    label_folder = os.path.join(folder_path, f'{label}')\n",
    "    os.makedirs(label_folder, exist_ok=True)\n",
    "    saved = 0\n",
    "    for images_batch, labels_batch in dataloader:\n",
    "        for img, lbl in zip(images_batch, labels_batch):\n",
    "            if int(lbl.item()) == label:\n",
    "                img_np = img.permute(1, 2, 0).cpu().numpy()\n",
    "                if img_np.shape[-1] == 1:\n",
    "                    img_np = img_np.squeeze(-1)\n",
    "                plt.imsave(os.path.join(label_folder, f'ground_truth_{saved}.png'), img_np, cmap='gray' if img_np.ndim == 2 else None)\n",
    "                saved += 1\n",
    "                if saved >= n_samples:\n",
    "                    break\n",
    "        if saved >= n_samples:\n",
    "            break\n",
    "\n",
    "    # Visualize the ground truth samples\n",
    "    fig, axes = plt.subplots(1, saved, figsize=(5 * saved, 5))\n",
    "    if saved == 1:\n",
    "        axes = [axes]\n",
    "    for ax_idx, ax in enumerate(axes):\n",
    "        img = plt.imread(os.path.join(label_folder, f'ground_truth_{ax_idx}.png'))\n",
    "        ax.imshow(img, cmap='gray' if img.ndim == 2 else None)\n",
    "        ax.set_title(f'Label: {label}')\n",
    "        ax.axis('off')\n",
    "    plt.show()\n",
    "\n",
    "label = 0\n",
    "N_SAMPLES = 1\n",
    "save_generated_single_label('../image/generated_samples', model, label, STEPS, N_SAMPLES, device)\n",
    "save_ground_truth_single_label('../image/ground_truth_samples', dataloader, label, n_samples=N_SAMPLES)\n"
   ]
  },
  {
   "cell_type": "code",
   "execution_count": null,
   "id": "c0dfc793",
   "metadata": {},
   "outputs": [
    {
     "name": "stdout",
     "output_type": "stream",
     "text": [
      "Computing FID for label 0...\n",
      "100%|█████████████████████████████████████████████| 1/1 [00:09<00:00,  9.04s/it]\n",
      "100%|█████████████████████████████████████████████| 1/1 [00:03<00:00,  3.32s/it]"
     ]
    }
   ],
   "source": [
    "from PIL import Image\n",
    "import glob\n",
    "\n",
    "import matplotlib.pyplot as plt\n",
    "\n",
    "fid_scores = {}\n",
    "label = 0\n",
    "# Compute FID for current label\n",
    "print(f\"Computing FID for label {label}...\")\n",
    "!python -m pytorch_fid ../image/generated_samples/{label} ../image/ground_truth_samples/{label} --batch-size 1 --device mps > ../image/fid_tmp.txt\n",
    "with open(\"../image/fid_tmp.txt\") as f:\n",
    "    for line in f:\n",
    "        if \"FID:\" in line:\n",
    "            fid_scores[label] = float(line.strip().split()[-1])\n",
    "            print(f\"Label {label}: FID = {fid_scores[label]}\")\n",
    "\n",
    "# Visualize 1 image from generated and 1 from ground truth\n",
    "gen_imgs = sorted(glob.glob(f'../image/generated_samples/{label}/*.png'))\n",
    "gt_imgs = sorted(glob.glob(f'../image/ground_truth_samples/{label}/*.png'))\n",
    "fig, axes = plt.subplots(1, 2, figsize=(4, 4))\n",
    "# Show generated image\n",
    "if len(gen_imgs) > 0:\n",
    "    axes[0].imshow(Image.open(gen_imgs[0]), cmap='gray')\n",
    "    axes[0].set_title(f'Gen {label}')\n",
    "axes[0].axis('off')\n",
    "# Show ground truth image\n",
    "if len(gt_imgs) > 0:\n",
    "    axes[1].imshow(Image.open(gt_imgs[0]), cmap='gray')\n",
    "    axes[1].set_title(f'GT {label}')\n",
    "axes[1].axis('off')\n",
    "plt.tight_layout()\n",
    "plt.show()\n",
    "\n",
    "print(\"FID scores per label:\", fid_scores)"
   ]
  },
  {
   "cell_type": "code",
   "execution_count": null,
   "id": "830c4184",
   "metadata": {},
   "outputs": [],
   "source": [
    "# Remove temporary file\n",
    "import os\n",
    "if os.path.exists(\"../image/fid_tmp.txt\"):\n",
    "    os.remove(\"../image/fid_tmp.txt\")\n",
    "\n",
    "# Remove image folders if needed\n",
    "import shutil\n",
    "if os.path.exists('../image/generated_samples'):\n",
    "    shutil.rmtree('../image/generated_samples')\n",
    "if os.path.exists('../image/ground_truth_samples'):\n",
    "    shutil.rmtree('../image/ground_truth_samples')"
   ]
  }
 ],
 "metadata": {
  "kernelspec": {
   "display_name": "flow_matching",
   "language": "python",
   "name": "python3"
  },
  "language_info": {
   "codemirror_mode": {
    "name": "ipython",
    "version": 3
   },
   "file_extension": ".py",
   "mimetype": "text/x-python",
   "name": "python",
   "nbconvert_exporter": "python",
   "pygments_lexer": "ipython3",
   "version": "3.9.21"
  }
 },
 "nbformat": 4,
 "nbformat_minor": 5
}
